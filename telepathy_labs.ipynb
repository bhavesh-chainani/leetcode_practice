{
 "cells": [
  {
   "cell_type": "markdown",
   "metadata": {},
   "source": [
    "# Telepathy Labs Technical Assessment"
   ]
  },
  {
   "cell_type": "markdown",
   "metadata": {},
   "source": [
    "notes\n",
    "using BFS --> can run simultaneously on multiple sources at the same time. Multi source BFS\n",
    "initialise Q using initial infected patient, once our Q is empty, then we will stop\n",
    "after our Q is completely popped, we should keep track of how many uninfected patients there are initially\n",
    "once the BFS algorithm is done, if there are still uninfected patients --> return -1\n",
    "visiting cell at most once --> time and space complexity --> O(m*n)"
   ]
  },
  {
   "cell_type": "markdown",
   "metadata": {
    "vscode": {
     "languageId": "plaintext"
    }
   },
   "source": [
    "0. The ward is empty\n",
    "1. The ward has uninfected patients\n",
    "2. The ward has infected patients"
   ]
  },
  {
   "cell_type": "markdown",
   "metadata": {},
   "source": [
    "Note:\n",
    "\n",
    "0. 1 <= grid.length <= 1000\n",
    "1. 1 <= grid[0].length <= 1000\n",
    "2. grid[i][j] is only 0, 1, or 2."
   ]
  },
  {
   "cell_type": "markdown",
   "metadata": {},
   "source": [
    "use Breadth-First-Search Algorithm used to find a minimum distance or minimum time to do some tasks in a grid or tree"
   ]
  },
  {
   "cell_type": "markdown",
   "metadata": {},
   "source": [
    "1. We would require a queue that will hold the co-ordinates of infected patients and a set that will hold the co-ordinates of uninfected patients"
   ]
  },
  {
   "cell_type": "markdown",
   "metadata": {},
   "source": [
    "Efficient Solution \n",
    "\n",
    "Approach: The idea is to use Breadth First Search. The condition of patients getting infected is when they come in contact with other infected patients. This is similar to breadth-first search where the graph is divided into layers or circles and the search is done from lower or closer layers to deeper or higher layers.  To find the elements whose values are no the whole matrix had to be traversed.\n",
    " \n",
    "Algorithm: \n",
    "Create an empty queue q. \n",
    "Find all infected victims and enqueue them to q. Also, enqueue a delimiter to indicate the beginning of the next time frame.\n",
    "Run a loop while q is not empty\n",
    "Do following while delimiter in q is not reached\n",
    "Dequeue a patient from the queue, infect all adjacent patients. While infecting the adjacent, make sure that the time frame is incremented only once. And the time frame is not incremented if there are no adjacent patients.\n",
    "Dequeue the old delimiter and enqueue a new delimiter. The victims infected in the previous time frame lie between the two delimiters."
   ]
  },
  {
   "cell_type": "code",
   "execution_count": 42,
   "metadata": {},
   "outputs": [
    {
     "name": "stdout",
     "output_type": "stream",
     "text": [
      "Minimum time incurred:  2\n"
     ]
    }
   ],
   "source": [
    "from collections import deque\n",
    "\n",
    "def infecting_patients(M,N,grid: list[list[int]]) -> int:\n",
    "    q = deque()\n",
    "    #time to keep track of time which has passed\n",
    "    #uninfected to keep track of how many uninfected patients at any given point in time\n",
    "    time, uninfected = 0,0\n",
    "\n",
    "    if M > 1000 or N > 1000:\n",
    "        return -1\n",
    "\n",
    "    for r in range(M):\n",
    "        for c in range(N):\n",
    "            #if any cell in the grid is uninfected, increment the number of uninfected\n",
    "            if grid[r][c] == 1:\n",
    "                uninfected += 1\n",
    "            #if any cell is infected, add coordinates to queue to run multi BFS\n",
    "            if grid[r][c] == 2:\n",
    "                q.append([r,c])\n",
    "\n",
    "    #4 directions to move in\n",
    "    directions = [[0,1],[0,-1],[1,0],[-1,0]]\n",
    "\n",
    "    #while queue is empty and uninfected=0, then the loop will stop\n",
    "    while q and uninfected>0:\n",
    "        for i in range(len(q)):\n",
    "            #popleft to pop the equivalent of the length of q,\n",
    "            #while appending the adjacent patients which will\n",
    "            #become infected\n",
    "            r,c = q.popleft()\n",
    "            #go through the 4 adjacent positions of the infected victim\n",
    "            for dr,dc in directions:\n",
    "                #getting coordinate of adjacent spots\n",
    "                row, col = dr + r, dc + c\n",
    "                # if in bounds and uninfected patient, make the patient infected\n",
    "                # if out of bounds or is not a uninfected patient, continue the loop\n",
    "                if (row < 0 or row == len(grid) or\n",
    "                    col < 0 or col == len(grid[0]) or\n",
    "                    grid[row][col] != 1):\n",
    "                    continue\n",
    "                grid[row][col] = 2\n",
    "                q.append([row,col])\n",
    "                #decrement the number of uninfected patients\n",
    "                uninfected -= 1\n",
    "        #loop is executed, increment time by 1\n",
    "        time += 1\n",
    "    #return time if every single patient becomes infected\n",
    "    return time if uninfected == 0 else -1\n",
    "\n",
    "\n",
    "if __name__ == \"__main__\":\n",
    "\n",
    "    M = 3\n",
    "    N = 5\n",
    "    grid = [[2, 1, 0, 2, 1],\n",
    "            [1, 0, 1, 2, 1],\n",
    "            [1, 0, 0, 2, 1]]\n",
    "\n",
    "    print(\"Minimum time incurred: \", infecting_patients(M,N,grid))"
   ]
  }
 ],
 "metadata": {
  "kernelspec": {
   "display_name": "Python 3.9.12 ('base')",
   "language": "python",
   "name": "python3"
  },
  "language_info": {
   "codemirror_mode": {
    "name": "ipython",
    "version": 3
   },
   "file_extension": ".py",
   "mimetype": "text/x-python",
   "name": "python",
   "nbconvert_exporter": "python",
   "pygments_lexer": "ipython3",
   "version": "3.9.12"
  },
  "orig_nbformat": 4,
  "vscode": {
   "interpreter": {
    "hash": "db12fa71076129830f6c3708a742ef55f44f1f43715e92e90d821dc4d9769dfc"
   }
  }
 },
 "nbformat": 4,
 "nbformat_minor": 2
}
