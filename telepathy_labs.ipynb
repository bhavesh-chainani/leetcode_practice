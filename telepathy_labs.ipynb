{
 "cells": [
  {
   "cell_type": "markdown",
   "metadata": {},
   "source": [
    "# Telepathy Labs Technical Assessment"
   ]
  },
  {
   "cell_type": "markdown",
   "metadata": {},
   "source": [
    "notes\n",
    "using BFS --> can run simultaneously on multiple sources at the same time. Multi source BFS\n",
    "initialise Q using initial infected patient, once our Q is empty, then we will stop\n",
    "after our Q is completely popped, we should keep track of how many uninfected patients there are initially\n",
    "once the BFS algorithm is done, if there are still uninfected patients --> return -1\n",
    "visiting cell at most once --> time and space complexity --> O(m*n)"
   ]
  },
  {
   "cell_type": "markdown",
   "metadata": {
    "vscode": {
     "languageId": "plaintext"
    }
   },
   "source": [
    "0. The ward is empty\n",
    "1. The ward has uninfected patients\n",
    "2. The ward has infected patients"
   ]
  },
  {
   "cell_type": "markdown",
   "metadata": {},
   "source": [
    "Note:\n",
    "\n",
    "0. 1 <= grid.length <= 1000\n",
    "1. 1 <= grid[0].length <= 1000\n",
    "2. grid[i][j] is only 0, 1, or 2."
   ]
  },
  {
   "cell_type": "markdown",
   "metadata": {},
   "source": [
    "use Breadth-First-Search Algorithm used to find a minimum distance or minimum time to do some tasks in a grid or tree"
   ]
  },
  {
   "cell_type": "markdown",
   "metadata": {},
   "source": [
    "1. We would require a queue that will hold the co-ordinates of infected patients and a set that will hold the co-ordinates of uninfected patients"
   ]
  },
  {
   "cell_type": "markdown",
   "metadata": {},
   "source": [
    "Efficient Solution \n",
    "\n",
    "Approach: The idea is to use Breadth First Search. The condition of patients getting infected is when they come in contact with other infected patients. This is similar to breadth-first search where the graph is divided into layers or circles and the search is done from lower or closer layers to deeper or higher layers.  To find the elements whose values are no the whole matrix had to be traversed.\n",
    " \n",
    "Algorithm: \n",
    "Create an empty queue q. \n",
    "Find all infected victims and enqueue them to q. Also, enqueue a delimiter to indicate the beginning of the next time frame.\n",
    "Run a loop while q is not empty\n",
    "Do following while delimiter in q is not reached\n",
    "Dequeue a patient from the queue, infect all adjacent patients. While infecting the adjacent, make sure that the time frame is incremented only once. And the time frame is not incremented if there are no adjacent patients.\n",
    "Dequeue the old delimiter and enqueue a new delimiter. The victims infected in the previous time frame lie between the two delimiters."
   ]
  }
 ],
 "metadata": {
  "kernelspec": {
   "display_name": "Python 3.9.12 ('base')",
   "language": "python",
   "name": "python3"
  },
  "language_info": {
   "codemirror_mode": {
    "name": "ipython",
    "version": 3
   },
   "file_extension": ".py",
   "mimetype": "text/x-python",
   "name": "python",
   "nbconvert_exporter": "python",
   "pygments_lexer": "ipython3",
   "version": "3.9.12"
  },
  "orig_nbformat": 4,
  "vscode": {
   "interpreter": {
    "hash": "db12fa71076129830f6c3708a742ef55f44f1f43715e92e90d821dc4d9769dfc"
   }
  }
 },
 "nbformat": 4,
 "nbformat_minor": 2
}
